{
 "cells": [
  {
   "cell_type": "code",
   "execution_count": null,
   "id": "28dc2159",
   "metadata": {},
   "outputs": [],
   "source": [
    "REDDIT_API_CLIENT_ID = \"eIekpVlDzgkMllpZ9DlC5A\"\n",
    "REDDIT_API_CLIENT_SECRET = \"jOpLLM_5HHJg9--sRnwM1584DOW_Cw\"\n",
    "REDDIT_API_USER_AGENT = \"My User Agent\""
   ]
  }
 ],
 "metadata": {
  "kernelspec": {
   "display_name": "Python 3 (ipykernel)",
   "language": "python",
   "name": "python3"
  },
  "language_info": {
   "codemirror_mode": {
    "name": "ipython",
    "version": 3
   },
   "file_extension": ".py",
   "mimetype": "text/x-python",
   "name": "python",
   "nbconvert_exporter": "python",
   "pygments_lexer": "ipython3",
   "version": "3.8.13"
  }
 },
 "nbformat": 4,
 "nbformat_minor": 5
}
