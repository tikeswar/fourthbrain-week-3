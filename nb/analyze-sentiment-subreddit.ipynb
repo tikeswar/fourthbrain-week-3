{
 "cells": [
  {
   "cell_type": "markdown",
   "metadata": {},
   "source": [
    "<p align = \"center\" draggable=”false” ><img src=\"https://user-images.githubusercontent.com/37101144/161836199-fdb0219d-0361-4988-bf26-48b0fad160a3.png\" \n",
    "     width=\"200px\"\n",
    "     height=\"auto\"/>\n",
    "</p>"
   ]
  },
  {
   "cell_type": "markdown",
   "metadata": {},
   "source": [
    "# <h1 align=\"center\" id=\"heading\">Sentiment Analysis of Reddit Data using Reddit API</h1>"
   ]
  },
  {
   "cell_type": "markdown",
   "metadata": {},
   "source": [
    "In this live coding session, we leverage the Python Reddit API Wrapper (`PRAW`) to retrieve data from subreddits on [Reddit](https://www.reddit.com), and perform sentiment analysis using [`pipelines`](https://huggingface.co/docs/transformers/main_classes/pipelines) from [HuggingFace ( 🤗 the GitHub of Machine Learning )](https://techcrunch.com/2022/05/09/hugging-face-reaches-2-billion-valuation-to-build-the-github-of-machine-learning/), powered by [transformer](https://arxiv.org/pdf/1706.03762.pdf)."
   ]
  },
  {
   "cell_type": "markdown",
   "metadata": {},
   "source": [
    "## Objectives"
   ]
  },
  {
   "cell_type": "markdown",
   "metadata": {},
   "source": [
    "At the end of the session, you will "
   ]
  },
  {
   "cell_type": "markdown",
   "metadata": {},
   "source": [
    "- know how to work with APIs\n",
    "- feel more comfortable navigating thru documentation, even inspecting the source code\n",
    "- understand what a `pipeline` object is in HuggingFace\n",
    "- perform sentiment analysis using `pipeline`\n",
    "- run a python script in command line and get the results"
   ]
  },
  {
   "cell_type": "markdown",
   "metadata": {
    "heading_collapsed": true
   },
   "source": [
    "## How to Submit"
   ]
  },
  {
   "cell_type": "markdown",
   "metadata": {},
   "source": [
    "- At the end of each task, commit* the work into the repository you created before the assignment\n",
    "- After completing all three tasks, make sure to push the notebook containing all code blocks and output cells to your repository you created before the assignment\n",
    "- Submit the link to the notebook in Canvas"
   ]
  },
  {
   "cell_type": "markdown",
   "metadata": {
    "hidden": true
   },
   "source": [
    "\\***NEVER** commit a notebook displaying errors unless it is instructed otherwise. However, commit often; recall git ABC = **A**lways **B**e **C**ommitting."
   ]
  },
  {
   "cell_type": "markdown",
   "metadata": {},
   "source": [
    "## Tasks"
   ]
  },
  {
   "cell_type": "markdown",
   "metadata": {
    "heading_collapsed": true
   },
   "source": [
    "### Task I: Instantiate a Reddit API Object"
   ]
  },
  {
   "cell_type": "markdown",
   "metadata": {
    "hidden": true
   },
   "source": [
    "The first task is to instantiate a Reddit API object using [PRAW](https://praw.readthedocs.io/en/stable/), through which you will retrieve data. PRAW is a wrapper for [Reddit API](https://www.reddit.com/dev/api) that makes interacting with the Reddit API easier unless you are already an expert of [`requests`](https://docs.python-requests.org/en/latest/)."
   ]
  },
  {
   "cell_type": "markdown",
   "metadata": {
    "hidden": true
   },
   "source": [
    "#### 1. Install packages"
   ]
  },
  {
   "cell_type": "markdown",
   "metadata": {
    "hidden": true
   },
   "source": [
    "Please ensure you've ran all the cells in the `imports.ipynb`, located [here](https://github.com/FourthBrain/MLE-8/blob/main/assignments/week-3-analyze-sentiment-subreddit/imports.ipynb), to make sure you have all the required packages for today's assignment."
   ]
  },
  {
   "cell_type": "markdown",
   "metadata": {
    "hidden": true
   },
   "source": [
    "####  2. Create a new app on Reddit "
   ]
  },
  {
   "cell_type": "markdown",
   "metadata": {
    "hidden": true
   },
   "source": [
    "Create a new app on Reddit and save secret tokens; refer to [post in medium](https://towardsdatascience.com/how-to-use-the-reddit-api-in-python-5e05ddfd1e5c) for more details."
   ]
  },
  {
   "cell_type": "markdown",
   "metadata": {
    "hidden": true
   },
   "source": [
    "- Create a Reddit account if you don't have one, log into your account.\n",
    "- To access the API, we need create an app. Slight updates, on the website, you need to navigate to `preference` > `app`, or click [this link](https://www.reddit.com/prefs/apps) and scroll all the way down. \n",
    "- Click to create a new app, fill in the **name**, choose `script`, fill in  **description** and **redirect uri** ( The redirect URI is where the user is sent after they've granted OAuth access to your application (more info [here](https://github.com/reddit-archive/reddit/wiki/OAuth2)) For our purpose, you can enter some random url, e.g., www.google.com; as shown below.\n",
    "\n",
    "\n",
    "    <img src=\"https://miro.medium.com/max/700/1*lRBvxpIe8J2nZYJ6ucMgHA.png\" width=\"500\"/>\n",
    "- Jot down `client_id` (left upper corner) and `client_secret` \n",
    "\n",
    "    NOTE: CLIENT_ID refers to 'personal use script\" and CLIENT_SECRET to secret.\n",
    "    \n",
    "    <div>\n",
    "    <img src=\"https://miro.medium.com/max/700/1*7cGAKth1PMrEf2sHcQWPoA.png\" width=\"300\"/>\n",
    "    </div>\n",
    "\n",
    "- Create `secrets.py` in the same directory with this notebook, fill in `client_id` and `secret_id` obtained from the last step. We will need to import those constants in the next step.\n",
    "    ```\n",
    "    REDDIT_API_CLIENT_ID = \"client_id\"\n",
    "    REDDIT_API_CLIENT_SECRET = \"secret_id\"\n",
    "    REDDIT_API_USER_AGENT = \"any string except bot; ex. My User Agent\"\n",
    "    ```\n",
    "- Add `secrets.py` to your `.gitignore` file if not already done. NEVER push credentials to a repo, private or public. "
   ]
  },
  {
   "cell_type": "markdown",
   "metadata": {
    "hidden": true
   },
   "source": [
    "#### 3. Instantiate a `Reddit` object"
   ]
  },
  {
   "cell_type": "markdown",
   "metadata": {
    "hidden": true
   },
   "source": [
    "Now you are ready to create a read-only `Reddit` instance. Refer to [documentation](https://praw.readthedocs.io/en/stable/code_overview/reddit_instance.html) when necessary."
   ]
  },
  {
   "cell_type": "code",
   "execution_count": 1,
   "metadata": {
    "hidden": true
   },
   "outputs": [],
   "source": [
    "import praw\n",
    "import reddit_secrets\n",
    "\n",
    "# Create a Reddit object which allows us to interact with the Reddit API\n",
    "reddit = praw.Reddit(\n",
    "    client_id=reddit_secrets.REDDIT_API_CLIENT_ID,\n",
    "    client_secret=reddit_secrets.REDDIT_API_CLIENT_SECRET,\n",
    "    user_agent=reddit_secrets.REDDIT_API_USER_AGENT\n",
    ")"
   ]
  },
  {
   "cell_type": "code",
   "execution_count": 2,
   "metadata": {
    "hidden": true
   },
   "outputs": [
    {
     "name": "stdout",
     "output_type": "stream",
     "text": [
      "<praw.reddit.Reddit object at 0x105a7d4c0>\n"
     ]
    }
   ],
   "source": [
    "print(reddit) "
   ]
  },
  {
   "cell_type": "markdown",
   "metadata": {},
   "source": [
    "<details>\n",
    "<summary>Expected output:</summary>   \n",
    "\n",
    "```<praw.reddit.Reddit object at 0x10f8a0ac0>```\n",
    "</details>"
   ]
  },
  {
   "cell_type": "markdown",
   "metadata": {
    "hidden": true
   },
   "source": [
    "#### 4. Instantiate a `subreddit` object"
   ]
  },
  {
   "cell_type": "markdown",
   "metadata": {
    "hidden": true
   },
   "source": [
    "Lastly, create a `subreddit` object for your favorite subreddit and inspect the object. The expected output you will see ar from `r/machinelearning` unless otherwise specified."
   ]
  },
  {
   "cell_type": "code",
   "execution_count": 3,
   "metadata": {
    "hidden": true
   },
   "outputs": [],
   "source": [
    "# YOUR CODE HERE\n",
    "sub_reddit = reddit.subreddit(\"machinelearning\")"
   ]
  },
  {
   "cell_type": "markdown",
   "metadata": {
    "hidden": true
   },
   "source": [
    "What is the display name of the subreddit?"
   ]
  },
  {
   "cell_type": "code",
   "execution_count": 4,
   "metadata": {
    "hidden": true
   },
   "outputs": [
    {
     "data": {
      "text/plain": [
       "'machinelearning'"
      ]
     },
     "execution_count": 4,
     "metadata": {},
     "output_type": "execute_result"
    }
   ],
   "source": [
    "# YOUR CODE HERE\n",
    "sub_reddit.display_name"
   ]
  },
  {
   "cell_type": "markdown",
   "metadata": {},
   "source": [
    "<details>\n",
    "<summary>Expected output:</summary>   \n",
    "\n",
    "    machinelearning\n",
    "</details>"
   ]
  },
  {
   "cell_type": "markdown",
   "metadata": {
    "hidden": true
   },
   "source": [
    "How about its title, is it different from the display name?"
   ]
  },
  {
   "cell_type": "code",
   "execution_count": 5,
   "metadata": {
    "hidden": true
   },
   "outputs": [
    {
     "data": {
      "text/plain": [
       "'Machine Learning'"
      ]
     },
     "execution_count": 5,
     "metadata": {},
     "output_type": "execute_result"
    }
   ],
   "source": [
    "# YOUR CODE HERE\n",
    "sub_reddit.title"
   ]
  },
  {
   "cell_type": "markdown",
   "metadata": {},
   "source": [
    "<details>\n",
    "<summary>Expected output:</summary>   \n",
    "\n",
    "    Machine Learning\n",
    "</details>"
   ]
  },
  {
   "cell_type": "markdown",
   "metadata": {
    "hidden": true
   },
   "source": [
    "Print out the description of the subreddit:"
   ]
  },
  {
   "cell_type": "code",
   "execution_count": 6,
   "metadata": {
    "hidden": true,
    "scrolled": false
   },
   "outputs": [
    {
     "data": {
      "text/plain": [
       "'**[Rules For Posts](https://www.reddit.com/r/MachineLearning/about/rules/)**\\n--------\\n+[Research](https://www.reddit.com/r/MachineLearning/search?sort=new&restrict_sr=on&q=flair%3AResearch)\\n--------\\n+[Discussion](https://www.reddit.com/r/MachineLearning/search?sort=new&restrict_sr=on&q=flair%3ADiscussion)\\n--------\\n+[Project](https://www.reddit.com/r/MachineLearning/search?sort=new&restrict_sr=on&q=flair%3AProject)\\n--------\\n+[News](https://www.reddit.com/r/MachineLearning/search?sort=new&restrict'"
      ]
     },
     "execution_count": 6,
     "metadata": {},
     "output_type": "execute_result"
    }
   ],
   "source": [
    "# YOUR CODE HERE\n",
    "sub_reddit.description[:500]"
   ]
  },
  {
   "cell_type": "markdown",
   "metadata": {},
   "source": [
    "<details>\n",
    "<summary>Expected output:</summary>\n",
    "\n",
    "    **[Rules For Posts](https://www.reddit.com/r/MachineLearning/about/rules/)**\n",
    "    --------\n",
    "    +[Research](https://www.reddit.com/r/MachineLearning/search?sort=new&restrict_sr=on&q=flair%3AResearch)\n",
    "    --------\n",
    "    +[Discussion](https://www.reddit.com/r/MachineLearning/search?sort=new&restrict_sr=on&q=flair%3ADiscussion)\n",
    "    --------\n",
    "    +[Project](https://www.reddit.com/r/MachineLearning/search?sort=new&restrict_sr=on&q=flair%3AProject)\n",
    "    --------\n",
    "    +[News](https://www.reddit.com/r/MachineLearning/search?sort=new&restrict\n",
    "</details>"
   ]
  },
  {
   "cell_type": "markdown",
   "metadata": {
    "heading_collapsed": true
   },
   "source": [
    "### Task II: Parse comments"
   ]
  },
  {
   "cell_type": "markdown",
   "metadata": {
    "heading_collapsed": true,
    "hidden": true
   },
   "source": [
    "#### 1. Top Posts of All Time"
   ]
  },
  {
   "cell_type": "markdown",
   "metadata": {
    "hidden": true
   },
   "source": [
    "Find titles of top 10 posts of **all time** from your favorite subreddit. Refer to [Obtain Submission Instances from a Subreddit Section](https://praw.readthedocs.io/en/stable/getting_started/quick_start.html)) if necessary. Verify if the titles match what you read on Reddit."
   ]
  },
  {
   "cell_type": "code",
   "execution_count": 7,
   "metadata": {
    "hidden": true
   },
   "outputs": [],
   "source": [
    "# try run this line, what do you see? press q once you are done\n",
    "?sub_reddit.top "
   ]
  },
  {
   "cell_type": "code",
   "execution_count": 10,
   "metadata": {
    "hidden": true
   },
   "outputs": [
    {
     "name": "stdout",
     "output_type": "stream",
     "text": [
      "[Project] From books to presentations in 10s with AR + ML\n",
      "[D] A Demo from 1993 of 32-year-old Yann LeCun showing off the World's first Convolutional Network for Text Recognition\n",
      "[R] First Order Motion Model applied to animate paintings\n",
      "[N] AI can turn old photos into moving Images / Link is given in the comments - You can also turn your old photo like this\n",
      "[D] This AI reveals how much time politicians stare at their phone at work\n",
      "[D] Types of Machine Learning Papers\n",
      "[D] The machine learning community has a toxicity problem\n",
      "[Project] NEW PYTHON PACKAGE: Sync GAN Art to Music with \"Lucid Sonic Dreams\"! (Link in Comments)\n",
      "I made a robot that punishes me if it detects that if I am procrastinating on my assignments [P]\n",
      "[P] Using oil portraits and First Order Model to bring the paintings back to life\n"
     ]
    }
   ],
   "source": [
    "# YOUR CODE HERE\n",
    "for post in sub_reddit.top(limit=10):\n",
    "    print(post.title)"
   ]
  },
  {
   "cell_type": "markdown",
   "metadata": {
    "hidden": true
   },
   "source": [
    "<details> <summary>Expected output:</summary>\n",
    "\n",
    "    [Project] From books to presentations in 10s with AR + ML\n",
    "    [D] A Demo from 1993 of 32-year-old Yann LeCun showing off the World's first Convolutional Network for Text Recognition\n",
    "    [R] First Order Motion Model applied to animate paintings\n",
    "    [N] AI can turn old photos into moving Images / Link is given in the comments - You can also turn your old photo like this\n",
    "    [D] This AI reveals how much time politicians stare at their phone at work\n",
    "    [D] Types of Machine Learning Papers\n",
    "    [D] The machine learning community has a toxicity problem\n",
    "    [Project] NEW PYTHON PACKAGE: Sync GAN Art to Music with \"Lucid Sonic Dreams\"! (Link in Comments)\n",
    "    [P] Using oil portraits and First Order Model to bring the paintings back to life\n",
    "    [D] Convolution Neural Network Visualization - Made with Unity 3D and lots of Code / source - stefsietz (IG)    \n",
    "</details>"
   ]
  },
  {
   "cell_type": "markdown",
   "metadata": {
    "heading_collapsed": true,
    "hidden": true
   },
   "source": [
    "#### 2. Top 10 Posts of This Week"
   ]
  },
  {
   "cell_type": "markdown",
   "metadata": {
    "hidden": true
   },
   "source": [
    "What are the titles of the top 10 posts of **this week** from your favorite subreddit?"
   ]
  },
  {
   "cell_type": "code",
   "execution_count": 11,
   "metadata": {
    "hidden": true
   },
   "outputs": [
    {
     "name": "stdout",
     "output_type": "stream",
     "text": [
      "30% of Google's Reddit Emotions Dataset is Mislabeled [D]\n",
      "[R] mixed reality future — see the world through artistic lenses — made with NeRF\n",
      "[N] First-Ever Course on Transformers: NOW PUBLIC\n",
      "[D] Why are Corgi dogs so popular in machine learning (especially in the image generation community)?\n",
      "[D] Noam Chomsky on LLMs and discussion of LeCun paper (MLST)\n",
      "[D] Are there any rejected papers that ended up having significant impact in the long run?\n",
      "[N] Andrej Karpathy is leaving Tesla\n",
      "[R] So someone actually peer-reviewed this and thought \"yeah, looks good\"?\n",
      "[D] How do you verify the novelty of your research?\n",
      "[N] BigScience Releases their 176 Billion Parameter Open-access Multilingual Language Model\n"
     ]
    }
   ],
   "source": [
    "# YOUR CODE HERE\n",
    "for post in sub_reddit.top(time_filter=\"week\", limit=10):\n",
    "    print(post.title)"
   ]
  },
  {
   "cell_type": "markdown",
   "metadata": {
    "hidden": true
   },
   "source": [
    "<details><summary>Expected output:</summary>\n",
    "\n",
    "    [N] Ian Goodfellow, Apple’s director of machine learning, is leaving the company due to its return to work policy. In a note to staff, he said “I believe strongly that more flexibility would have been the best policy for my team.” He was likely the company’s most cited ML expert.\n",
    "    [R][P] Thin-Plate Spline Motion Model for Image Animation + Gradio Web Demo\n",
    "    [P] I’ve been trying to understand the limits of some of the available machine learning models out there. Built an app that lets you try a mix of CLIP from Open AI + Apple’s version of MobileNet, and more directly on your phone's camera roll.\n",
    "    [R] Meta is releasing a 175B parameter language model\n",
    "    [N] Hugging Face raised $100M at $2B to double down on community, open-source & ethics\n",
    "    [P] T-SNE to view and order your Spotify tracks\n",
    "    [D] : HELP Finding a Book - A book written for Google Engineers about foundational Math to support ML\n",
    "    [R] Scaled up CLIP-like model (~2B) shows 86% Zero-shot on Imagenet\n",
    "    [D] Do you use NLTK or Spacy for text preprocessing?\n",
    "    [D] Democratizing Diffusion Models - LDMs: High-Resolution Image Synthesis with Latent Diffusion Models, a 5-minute paper summary by Casual GAN Papers\n",
    "</details>"
   ]
  },
  {
   "cell_type": "markdown",
   "metadata": {},
   "source": [
    "💽❓ Data Question:\n",
    "\n",
    "Check out what other attributes the `praw.models.Submission` class has in the [docs](https://praw.readthedocs.io/en/stable/code_overview/models/submission.html). \n",
    "\n",
    "1. After having a chance to look through the docs, is there any other information that you might want to extract? How might this additional data help you?\n",
    "\n",
    "Write a sample piece of code below extracting three additional pieces of information from the submission below.\n",
    "\n",
    "Ans.\n",
    "\n",
    "I would like to extract a few more info like the number of comments a post has received, number of upvotes, and  % of upvotes. Since this is going to be a sentiment analysis task, these info kinda provide 'weight' to that sentiment."
   ]
  },
  {
   "cell_type": "code",
   "execution_count": 13,
   "metadata": {},
   "outputs": [
    {
     "name": "stdout",
     "output_type": "stream",
     "text": [
      "30% of Google's Reddit Emotions Dataset is Mislabeled [D]\n",
      "Type: <class 'praw.models.reddit.submission.Submission'>\n",
      "Number of comments: 134\n",
      "Number of upvotes: 864\n",
      "Percentage of upvotes: 0.98\n",
      "--\n",
      "[R] mixed reality future — see the world through artistic lenses — made with NeRF\n",
      "Type: <class 'praw.models.reddit.submission.Submission'>\n",
      "Number of comments: 15\n",
      "Number of upvotes: 351\n",
      "Percentage of upvotes: 0.96\n",
      "--\n",
      "[N] First-Ever Course on Transformers: NOW PUBLIC\n",
      "Type: <class 'praw.models.reddit.submission.Submission'>\n",
      "Number of comments: 37\n",
      "Number of upvotes: 343\n",
      "Percentage of upvotes: 0.92\n",
      "--\n"
     ]
    }
   ],
   "source": [
    "# YOUR CODE HERE\n",
    "for post in sub_reddit.top(time_filter=\"week\", limit=3):\n",
    "    print(post.title)\n",
    "    print(f'Type: {type(post)}')\n",
    "    print(f'Number of comments: {post.num_comments}')\n",
    "    print(f'Number of upvotes: {post.score}')\n",
    "    print(f'Percentage of upvotes: {post.upvote_ratio}')\n",
    "    print('--')"
   ]
  },
  {
   "cell_type": "markdown",
   "metadata": {},
   "source": [
    "💽❓ Data Question:\n",
    "\n",
    "2. Is there any information available that might be a concern when it comes to Ethical Data?\n",
    "\n",
    "Ans.\n",
    "\n",
    "1. Knowing the author (of a post) may cause some ethical challenge, but will be essential to know bias!\n",
    "2. How this data will be used may cause some ethical challenge (https://online.hbs.edu/blog/post/data-ethics)"
   ]
  },
  {
   "cell_type": "markdown",
   "metadata": {
    "heading_collapsed": true,
    "hidden": true
   },
   "source": [
    "#### 3. Comment Code"
   ]
  },
  {
   "cell_type": "markdown",
   "metadata": {
    "hidden": true
   },
   "source": [
    "Add comments to the code block below to describe what each line of the code does (Refer to [Obtain Comment Instances Section](https://praw.readthedocs.io/en/stable/getting_started/quick_start.html) when necessary). The code is adapted from [this tutorial](https://praw.readthedocs.io/en/stable/tutorials/comments.html)\n",
    "\n",
    "The purpose is \n",
    "1. to understand what the code is doing \n",
    "2. start to comment your code whenever it is not self-explantory if you have not (others will thank you, YOU will thank you later 😊) "
   ]
  },
  {
   "cell_type": "code",
   "execution_count": 14,
   "metadata": {
    "hidden": true,
    "scrolled": true
   },
   "outputs": [
    {
     "name": "stdout",
     "output_type": "stream",
     "text": [
      "CPU times: user 424 ms, sys: 107 ms, total: 531 ms\n",
      "Wall time: 1min 54s\n"
     ]
    }
   ],
   "source": [
    "%%time\n",
    "from praw.models import MoreComments\n",
    "\n",
    "# YOUR COMMENT HERE\n",
    "# a list to collect the top-level comments (and not comment to the comment, etc.)\n",
    "top_comments = []\n",
    "\n",
    "# YOUR COMMENT HERE\n",
    "# looping through the top 10 subreddits\n",
    "for submission in sub_reddit.top(limit=10):\n",
    "    # YOUR COMMENT HERE\n",
    "    # loop through all the comments in a subreddit\n",
    "    for top_level_comment in submission.comments:\n",
    "        # YOUR COMMENT HERE\n",
    "        # skip if the comment is not a top-level comment\n",
    "        if isinstance(top_level_comment, MoreComments):\n",
    "            continue\n",
    "        # YOUR COMMENT HERE\n",
    "        # append otherwise\n",
    "        top_comments.append(top_level_comment.body)"
   ]
  },
  {
   "cell_type": "markdown",
   "metadata": {
    "heading_collapsed": true,
    "hidden": true
   },
   "source": [
    "#### 4. Inspect Comments"
   ]
  },
  {
   "cell_type": "markdown",
   "metadata": {
    "hidden": true
   },
   "source": [
    "How many comments did you extract from the last step? Examine a few comments. "
   ]
  },
  {
   "cell_type": "code",
   "execution_count": 15,
   "metadata": {
    "hidden": true
   },
   "outputs": [
    {
     "name": "stdout",
     "output_type": "stream",
     "text": [
      "No. of comments: 739\n",
      "\n",
      "Twitter thread: [https://twitter.com/cyrildiagne/status/1259441154606669824](https://twitter.com/cyrildiagne/status/1259441154606669824)\n",
      "\n",
      "Code: [https://github.com/cyrildiagne/ar-cutpaste/tree/clipboard](https://github.com/cyrildiagne/ar-cutpaste/tree/clipboard)\n",
      "\n",
      "Background removal is done with U^(2-Net) (Qin et Al, Pattern Recognition 2020): [https://github.com/NathanUA/U-2-Net](https://github.com/NathanUA/U-2-Net)\n",
      "\n",
      "**/!\\\\ EDIT:** You can now subscribe to a beta program to get early access to the app: [https://arcopypaste.app](https://arcopypaste.app)  !\n",
      "--\n",
      "Simple yet very useful. Thank you for sharing the code.\n",
      "--\n",
      "The future 🤯\n",
      "--\n",
      "Ohh the nightmare of making this into a stable product... Enough to drive you mad just thinking about it\n",
      "--\n",
      "Almost guaranteed, Apple will copy your idea in 3, 2, 1....\n",
      "--\n"
     ]
    }
   ],
   "source": [
    "#YOUR CODE HERE  # the answer may vary 693 for r/machinelearning\n",
    "print(f'No. of comments: {len(top_comments)}\\n')\n",
    "for comment in top_comments[:5]:\n",
    "    print(comment)\n",
    "    print('--')"
   ]
  },
  {
   "cell_type": "code",
   "execution_count": 17,
   "metadata": {
    "hidden": true
   },
   "outputs": [
    {
     "data": {
      "text/plain": [
       "['Harry: you always can',\n",
       " 'Very nice, have to say I caught myself bobbing my head to the music too... followed you on Instagram. Thanks for sharing.',\n",
       " 'I think my robot will punish other people when Im procrastinating.']"
      ]
     },
     "execution_count": 17,
     "metadata": {},
     "output_type": "execute_result"
    }
   ],
   "source": [
    "import random\n",
    "\n",
    "[random.choice(top_comments) for i in range(3)]"
   ]
  },
  {
   "cell_type": "markdown",
   "metadata": {},
   "source": [
    "<details> <summary>Some of the comments from `r/machinelearning` subreddit are:</summary>\n",
    "\n",
    "    ['Awesome visualisation',\n",
    "    'Similar to a stack or connected neurons.',\n",
    "    'Will this Turing pass the Turing Test?']\n",
    "</details>"
   ]
  },
  {
   "cell_type": "markdown",
   "metadata": {},
   "source": [
    "💽❓ Data Question:\n",
    "\n",
    "3. After having a chance to review a few samples of 5 comments from the subreddit, what can you say about the data? \n",
    "\n",
    "HINT: Think about the \"cleanliness\" of the data, the content of the data, think about what you're trying to do - how does this data line up with your goal?\n",
    "\n",
    "Ans.\n",
    "\n",
    "1. Data is unclean (presense of un-tokenizable symbols like \"/!\\\\\" (emojis are fine)\n",
    "2. Some comments are just links - so we need to extract the meaning from those link?\n",
    "3. But comments can also help amplify the sentiment of a post (which can be a useful thing)!"
   ]
  },
  {
   "cell_type": "markdown",
   "metadata": {
    "hidden": true
   },
   "source": [
    "#### 5. Extract Top Level Comment from Subreddit `TSLA`."
   ]
  },
  {
   "cell_type": "markdown",
   "metadata": {
    "hidden": true
   },
   "source": [
    "Write your code to extract top level comments from the top 10 topics of a time period, e.g., year, from subreddit `TSLA` and store them in a list `top_comments_tsla`.  "
   ]
  },
  {
   "cell_type": "code",
   "execution_count": 18,
   "metadata": {
    "hidden": true
   },
   "outputs": [],
   "source": [
    "# YOUR CODE HERE\n",
    "sub_reddit_tsla = reddit.subreddit(\"TSLA\")\n",
    "\n",
    "top_comments_tsla = []\n",
    "for submission in sub_reddit_tsla.top(time_filter=\"year\", limit=10):\n",
    "    for top_level_comment in submission.comments:\n",
    "        if isinstance(top_level_comment, MoreComments):\n",
    "            continue\n",
    "        top_comments_tsla.append(top_level_comment.body)"
   ]
  },
  {
   "cell_type": "code",
   "execution_count": 19,
   "metadata": {
    "hidden": true
   },
   "outputs": [
    {
     "data": {
      "text/plain": [
       "158"
      ]
     },
     "execution_count": 19,
     "metadata": {},
     "output_type": "execute_result"
    }
   ],
   "source": [
    "len(top_comments_tsla) # Expected: 174 for r/machinelearning"
   ]
  },
  {
   "cell_type": "code",
   "execution_count": 21,
   "metadata": {
    "hidden": true,
    "scrolled": true
   },
   "outputs": [
    {
     "data": {
      "text/plain": [
       "['I sold all of my Tesla and bought in on GME at $275.00 all in',\n",
       " 'I’m %70 TSLA',\n",
       " 'Congrats!!']"
      ]
     },
     "execution_count": 21,
     "metadata": {},
     "output_type": "execute_result"
    }
   ],
   "source": [
    "[random.choice(top_comments_tsla) for i in range(3)]"
   ]
  },
  {
   "cell_type": "markdown",
   "metadata": {},
   "source": [
    "<details>\n",
    "<summary>Some of the comments from `r/TSLA` subreddit:</summary>\n",
    "\n",
    "    ['I bought puts',\n",
    "    '100%',\n",
    "    'Yes. And I’m bag holding 1200 calls for Friday and am close to throwing myself out the window']\n",
    "</details>"
   ]
  },
  {
   "cell_type": "markdown",
   "metadata": {},
   "source": [
    "💽❓ Data Question:\n",
    "\n",
    "4. Now that you've had a chance to review another subreddits comments, do you see any differences in the kinds of comments either subreddit has - and how might this relate to bias?\n",
    "\n",
    "Ans.\n",
    "In general TSLA comments are more polarized I think."
   ]
  },
  {
   "cell_type": "markdown",
   "metadata": {
    "heading_collapsed": true
   },
   "source": [
    "### Task III: Sentiment Analysis"
   ]
  },
  {
   "cell_type": "markdown",
   "metadata": {
    "hidden": true
   },
   "source": [
    "Let us analyze the sentiment of comments scraped from `r/TSLA` using a pre-trained HuggingFace model to make the inference. Take a [Quick tour](https://huggingface.co/docs/transformers/quicktour). "
   ]
  },
  {
   "cell_type": "markdown",
   "metadata": {
    "hidden": true
   },
   "source": [
    "#### 1. Import `pipeline`"
   ]
  },
  {
   "cell_type": "code",
   "execution_count": 22,
   "metadata": {
    "hidden": true
   },
   "outputs": [],
   "source": [
    "from transformers import pipeline  # << YOUR CODE HERE"
   ]
  },
  {
   "cell_type": "markdown",
   "metadata": {
    "hidden": true
   },
   "source": [
    "#### 2. Create a Pipeline to Perform Task \"sentiment-analysis\""
   ]
  },
  {
   "cell_type": "code",
   "execution_count": 23,
   "metadata": {
    "hidden": true
   },
   "outputs": [
    {
     "name": "stderr",
     "output_type": "stream",
     "text": [
      "No model was supplied, defaulted to distilbert-base-uncased-finetuned-sst-2-english (https://huggingface.co/distilbert-base-uncased-finetuned-sst-2-english)\n"
     ]
    }
   ],
   "source": [
    "sentiment_model = pipeline(\"sentiment-analysis\")  # << YOUR CODE HERE"
   ]
  },
  {
   "cell_type": "markdown",
   "metadata": {
    "hidden": true
   },
   "source": [
    "#### 3. Get one comment from list `top_comments_tsla` from Task II - 5."
   ]
  },
  {
   "cell_type": "code",
   "execution_count": 24,
   "metadata": {
    "hidden": true
   },
   "outputs": [],
   "source": [
    "comment = random.choice(top_comments_tsla)"
   ]
  },
  {
   "cell_type": "code",
   "execution_count": 25,
   "metadata": {
    "hidden": true
   },
   "outputs": [
    {
     "data": {
      "text/plain": [
       "'Don’t ever go all in on any investment. Just when you think you have investing figured out, it will remind you who is in charge and why so many lost money investing. Diversification is the key to wealth and investing. I wouldn’t invest all my eggs in any one basket.'"
      ]
     },
     "execution_count": 25,
     "metadata": {},
     "output_type": "execute_result"
    }
   ],
   "source": [
    "comment"
   ]
  },
  {
   "cell_type": "markdown",
   "metadata": {},
   "source": [
    "The example comment is: `'Bury Burry!!!!!'`. Print out what you get. For reproducibility, use the same comment in the next step; consider setting a seed."
   ]
  },
  {
   "cell_type": "markdown",
   "metadata": {
    "hidden": true
   },
   "source": [
    "#### 4. Make Inference!"
   ]
  },
  {
   "cell_type": "code",
   "execution_count": 27,
   "metadata": {
    "hidden": true
   },
   "outputs": [
    {
     "name": "stdout",
     "output_type": "stream",
     "text": [
      "Type: <class 'list'>\n",
      "[{'label': 'POSITIVE', 'score': 0.9967129230499268}]\n"
     ]
    }
   ],
   "source": [
    "sentiment = sentiment_model(comment)  # << YOUR CODE HERE \n",
    "print(f'Type: {type(sentiment)}')\n",
    "print(sentiment)"
   ]
  },
  {
   "cell_type": "markdown",
   "metadata": {
    "hidden": true
   },
   "source": [
    "What is the type of the output `sentiment`?"
   ]
  },
  {
   "cell_type": "markdown",
   "metadata": {
    "hidden": true
   },
   "source": [
    "```\n",
    "YOUR ANSWER HERE\n",
    "```\n",
    "\n",
    "*A. <class 'list'>*"
   ]
  },
  {
   "cell_type": "code",
   "execution_count": 28,
   "metadata": {
    "hidden": true,
    "scrolled": true
   },
   "outputs": [
    {
     "name": "stdout",
     "output_type": "stream",
     "text": [
      "The comment: Don’t ever go all in on any investment. Just when you think you have investing figured out, it will remind you who is in charge and why so many lost money investing. Diversification is the key to wealth and investing. I wouldn’t invest all my eggs in any one basket.\n",
      "Predicted Label is POSITIVE and the score is 0.997\n"
     ]
    }
   ],
   "source": [
    "print(f'The comment: {comment}')\n",
    "print(f'Predicted Label is {sentiment[0][\"label\"]} and the score is {sentiment[0][\"score\"]:.3f}')"
   ]
  },
  {
   "cell_type": "markdown",
   "metadata": {},
   "source": [
    "For the example comment, the output is:\n",
    "\n",
    "    The comment: Bury Burry!!!!!\n",
    "    Predicted Label is NEGATIVE and the score is 0.989"
   ]
  },
  {
   "cell_type": "markdown",
   "metadata": {},
   "source": [
    "🖥️❓ Model Question:\n",
    "\n",
    "1. What does the score represent?\n",
    "\n",
    "Ans.\n",
    "How confident the model is about that predicted sentiment label! Score of close to 1 is absolute confidence, 0.5 would be so-so confident, close to 0 is not that confident."
   ]
  },
  {
   "cell_type": "markdown",
   "metadata": {},
   "source": [
    "### Task IV: Put All Together"
   ]
  },
  {
   "cell_type": "markdown",
   "metadata": {},
   "source": [
    "Let's pull all the piece together, create a simple script that does \n",
    "\n",
    "- get the subreddit\n",
    "- get comments from the top posts for given subreddit\n",
    "- run sentiment analysis "
   ]
  },
  {
   "cell_type": "markdown",
   "metadata": {},
   "source": [
    "#### Complete the Script"
   ]
  },
  {
   "cell_type": "markdown",
   "metadata": {},
   "source": [
    "Once you complete the code, running the following block writes the code into a new Python script and saves it as `top_tlsa_comment_sentiment.py` under the same directory with the notebook. "
   ]
  },
  {
   "cell_type": "code",
   "execution_count": 29,
   "metadata": {
    "code_folding": []
   },
   "outputs": [
    {
     "name": "stdout",
     "output_type": "stream",
     "text": [
      "Writing top_tlsa_comment_sentiment.py\n"
     ]
    }
   ],
   "source": [
    "%%writefile top_tlsa_comment_sentiment.py\n",
    "\n",
    "import reddit_secrets\n",
    "import random\n",
    "\n",
    "from typing import Dict, List\n",
    "\n",
    "from praw import Reddit\n",
    "from praw.models.reddit.subreddit import Subreddit\n",
    "from praw.models import MoreComments\n",
    "\n",
    "from transformers import pipeline\n",
    "\n",
    "\n",
    "def get_subreddit(display_name:str) -> Subreddit:\n",
    "    \"\"\"Get subreddit object from display name\n",
    "\n",
    "    Args:\n",
    "        display_name (str): [description]\n",
    "\n",
    "    Returns:\n",
    "        Subreddit: [description]\n",
    "    \"\"\"\n",
    "    reddit = Reddit(\n",
    "        client_id=reddit_secrets.REDDIT_API_CLIENT_ID,        \n",
    "        client_secret=reddit_secrets.REDDIT_API_CLIENT_SECRET,\n",
    "        user_agent=reddit_secrets.REDDIT_API_USER_AGENT\n",
    "        )\n",
    "    \n",
    "    subreddit = reddit.subreddit(display_name)  # << YOUR CODE HERE\n",
    "    return subreddit\n",
    "\n",
    "def get_comments(subreddit:Subreddit, limit:int=3) -> List[str]:\n",
    "    \"\"\" Get comments from subreddit\n",
    "\n",
    "    Args:\n",
    "        subreddit (Subreddit): [description]\n",
    "        limit (int, optional): [description]. Defaults to 3.\n",
    "\n",
    "    Returns:\n",
    "        List[str]: List of comments\n",
    "    \"\"\"\n",
    "    top_comments = []\n",
    "    for submission in subreddit.top(limit=limit):\n",
    "        for top_level_comment in submission.comments:\n",
    "            if isinstance(top_level_comment, MoreComments):\n",
    "                continue\n",
    "            top_comments.append(top_level_comment.body)\n",
    "    return top_comments\n",
    "\n",
    "def run_sentiment_analysis(comment:str) -> Dict:\n",
    "    \"\"\"Run sentiment analysis on comment using default distilbert model\n",
    "    \n",
    "    Args:\n",
    "        comment (str): [description]\n",
    "        \n",
    "    Returns:\n",
    "        str: Sentiment analysis result\n",
    "    \"\"\"\n",
    "    sentiment_model = pipeline(\"sentiment-analysis\")  # << YOUR CODE HERE\n",
    "    sentiment = sentiment_model(comment)\n",
    "    return sentiment[0]\n",
    "\n",
    "\n",
    "if __name__ == '__main__':\n",
    "    subreddit = get_subreddit(display_name='TSLA')  # << YOUR CODE HERE\n",
    "    comments = get_comments(subreddit)\n",
    "    comment = random.choice(comments)  # << YOUR CODE HERE\n",
    "    sentiment = run_sentiment_analysis(comment)\n",
    "    \n",
    "    print(f'The comment: {comment}')\n",
    "    print(f'Predicted Label is {sentiment[\"label\"]} and the score is {sentiment[\"score\"]:.3f}')"
   ]
  },
  {
   "cell_type": "markdown",
   "metadata": {},
   "source": [
    "Run the following block to see the output."
   ]
  },
  {
   "cell_type": "code",
   "execution_count": 31,
   "metadata": {},
   "outputs": [
    {
     "name": "stdout",
     "output_type": "stream",
     "text": [
      "huggingface/tokenizers: The current process just got forked, after parallelism has already been used. Disabling parallelism to avoid deadlocks...\n",
      "To disable this warning, you can either:\n",
      "\t- Avoid using `tokenizers` before the fork if possible\n",
      "\t- Explicitly set the environment variable TOKENIZERS_PARALLELISM=(true | false)\n",
      "No model was supplied, defaulted to distilbert-base-uncased-finetuned-sst-2-english (https://huggingface.co/distilbert-base-uncased-finetuned-sst-2-english)\n",
      "The comment: TSLA is a promising stock, as long as it keeps on promising.\n",
      "Predicted Label is POSITIVE and the score is 0.999\n"
     ]
    }
   ],
   "source": [
    "!python top_tlsa_comment_sentiment.py"
   ]
  },
  {
   "cell_type": "markdown",
   "metadata": {},
   "source": [
    "<details><summary> Expected output:</summary>\n",
    "\n",
    "    No model was supplied, defaulted to distilbert-base-uncased-finetuned-sst-2-english (https://huggingface.co/distilbert-base-uncased-finetuned-sst-2-english)\n",
    "    The comment: When is DOGE flying\n",
    "    Predicted Label is POSITIVE and the score is 0.689\n",
    "</details>"
   ]
  },
  {
   "cell_type": "markdown",
   "metadata": {},
   "source": [
    "💽❓ Data Question:\n",
    "\n",
    "5. Is the subreddit active? About how many posts or threads per day? How could you find this information?\n",
    "\n",
    "Ans:\n",
    "\n",
    "1. Yes, the TSLA subreddit seems to be active, with 0-4 posts/day in the last ten days\n",
    "2. In the life of this subreddit (576 days), there are average 1.7 posts/day\n",
    "3. I computed this info using the `subreddit.new` (pls see below for the code)"
   ]
  },
  {
   "cell_type": "code",
   "execution_count": 49,
   "metadata": {},
   "outputs": [],
   "source": [
    "?sub_reddit.new"
   ]
  },
  {
   "cell_type": "code",
   "execution_count": 66,
   "metadata": {},
   "outputs": [
    {
     "name": "stdout",
     "output_type": "stream",
     "text": [
      "subreddit: TSLA\n",
      "Total no. of posts: 996\n"
     ]
    }
   ],
   "source": [
    "from datetime import datetime, timezone\n",
    "\n",
    "print(f'subreddit: {sub_reddit_tsla.display_name}')\n",
    "now = datetime.now(timezone.utc).timestamp()  # time in seconds since Unix epoch\n",
    "day = 24 * 60 * 60  # how many seconds in 1 day\n",
    "\n",
    "# post_stats is a list of tuples for all the posts, where tuple is (how many days back a post was created, post author)\n",
    "post_stats = [(int((now-post.created_utc)//day), post.author.name if post.author else None) for post in sub_reddit_tsla.new(limit=None)]\n",
    "print(f'Total no. of posts: {len(post_stats)}')"
   ]
  },
  {
   "cell_type": "code",
   "execution_count": 86,
   "metadata": {},
   "outputs": [
    {
     "name": "stdout",
     "output_type": "stream",
     "text": [
      "# of days back\tusername who posted\n",
      "0\t\twewewawa\n",
      "0\t\tweirdlittleflute\n",
      "0\t\twewewawa\n",
      "1\t\tAdmirableActuator\n",
      "2\t\tStocksWithCamden\n",
      "2\t\tju-ju2020\n",
      "2\t\tju-ju2020\n",
      "2\t\twewewawa\n",
      "4\t\twewewawa\n",
      "5\t\tFrequent_Ad_7439\n"
     ]
    }
   ],
   "source": [
    "print(f'# of days back\\tusername who posted')\n",
    "for stat in post_stats[:10]:\n",
    "    print(f'{stat[0]}\\t\\t{stat[1]}')"
   ]
  },
  {
   "cell_type": "code",
   "execution_count": 131,
   "metadata": {},
   "outputs": [
    {
     "name": "stdout",
     "output_type": "stream",
     "text": [
      "No. of posts in the last ten days\n",
      "# of days back\t# of posts\n",
      "0\t\t3\n",
      "1\t\t1\n",
      "2\t\t4\n",
      "3\t\t0\n",
      "4\t\t1\n",
      "5\t\t2\n",
      "6\t\t1\n",
      "7\t\t3\n",
      "8\t\t0\n",
      "9\t\t2\n",
      "\n",
      "\n",
      "No. of days since the beginning of this subreddit: 576\n",
      "Average no. of posts per day: 1.7\n"
     ]
    }
   ],
   "source": [
    "from collections import Counter\n",
    "\n",
    "count_posts_on_day = Counter([day for day, author in post_stats])\n",
    "count_posts_per_author = Counter([author for day, author in post_stats])\n",
    "\n",
    "print('No. of posts in the last ten days')\n",
    "print(f'# of days back\\t# of posts')\n",
    "for i in range(10):\n",
    "    print(f'{i}\\t\\t{count_posts_on_day[i]}')\n",
    "\n",
    "max_days = max([day for day, author in post_stats])\n",
    "print(f'\\n\\nNo. of days since the beginning of this subreddit: {max_days}')\n",
    "print(f'Average no. of posts per day: {len(post_stats)/max_days:.1f}')"
   ]
  },
  {
   "cell_type": "markdown",
   "metadata": {},
   "source": []
  },
  {
   "cell_type": "markdown",
   "metadata": {},
   "source": [
    "💽❓ Data Question:\n",
    "\n",
    "6. Does there seem to be a large distribution of posters or a smaller concentration of posters who are very active? What kind of impact might this have on the data?\n",
    "\n",
    "Ans:\n",
    "\n",
    "1. Seems like a small % of users are very active (around 2% of users posted 23% of the content)!\n",
    "2. This may cause the sentiment to be biased towards what those small % of users think\n",
    "\n",
    "Please see the computation below!"
   ]
  },
  {
   "cell_type": "code",
   "execution_count": 128,
   "metadata": {},
   "outputs": [
    {
     "name": "stdout",
     "output_type": "stream",
     "text": [
      "Total no. of users: 481\n",
      "Total no. of posts: 976\n",
      "\n",
      "top posters (%)\t\tposts %\n",
      "0.2079\t\t\t5.43\n",
      "0.4158\t\t\t10.66\n",
      "0.6237\t\t\t13.01\n",
      "0.8316\t\t\t14.65\n",
      "1.0395\t\t\t16.19\n",
      "1.2474\t\t\t17.62\n",
      "1.4553\t\t\t19.06\n",
      "1.6632\t\t\t20.39\n",
      "1.8711\t\t\t21.62\n",
      "2.0790\t\t\t22.75\n",
      "2.2869\t\t\t23.87\n",
      "2.4948\t\t\t24.90\n",
      "2.7027\t\t\t25.82\n",
      "2.9106\t\t\t26.74\n",
      "3.1185\t\t\t27.66\n",
      "3.3264\t\t\t28.59\n",
      "3.5343\t\t\t29.51\n",
      "3.7422\t\t\t30.33\n",
      "3.9501\t\t\t31.15\n",
      "4.1580\t\t\t31.86\n",
      "4.3659\t\t\t32.48\n",
      "4.5738\t\t\t33.09\n",
      "4.7817\t\t\t33.71\n",
      "4.9896\t\t\t34.32\n",
      "5.1975\t\t\t34.94\n",
      "5.4054\t\t\t35.55\n",
      "5.6133\t\t\t36.17\n",
      "5.8212\t\t\t36.78\n",
      "6.0291\t\t\t37.40\n",
      "6.2370\t\t\t38.01\n",
      "6.4449\t\t\t38.52\n",
      "6.6528\t\t\t39.04\n",
      "6.8607\t\t\t39.55\n",
      "7.0686\t\t\t40.06\n",
      "7.2765\t\t\t40.57\n",
      "7.4844\t\t\t41.09\n",
      "7.6923\t\t\t41.50\n",
      "7.9002\t\t\t41.91\n",
      "8.1081\t\t\t42.32\n",
      "8.3160\t\t\t42.73\n",
      "8.5239\t\t\t43.14\n",
      "8.7318\t\t\t43.44\n",
      "8.9397\t\t\t43.75\n",
      "9.1476\t\t\t44.06\n",
      "9.3555\t\t\t44.36\n",
      "9.5634\t\t\t44.67\n",
      "9.7713\t\t\t44.98\n",
      "9.9792\t\t\t45.29\n",
      "10.1871\t\t\t45.59\n",
      "10.3950\t\t\t45.90\n",
      "10.6029\t\t\t46.21\n",
      "10.8108\t\t\t46.52\n",
      "11.0187\t\t\t46.82\n",
      "11.2266\t\t\t47.13\n",
      "11.4345\t\t\t47.44\n",
      "11.6424\t\t\t47.75\n",
      "11.8503\t\t\t48.05\n",
      "12.0582\t\t\t48.36\n",
      "12.2661\t\t\t48.67\n",
      "12.4740\t\t\t48.98\n",
      "12.6819\t\t\t49.28\n",
      "12.8898\t\t\t49.59\n",
      "13.0977\t\t\t49.90\n",
      "13.3056\t\t\t50.10\n",
      "13.5135\t\t\t50.31\n",
      "13.7214\t\t\t50.51\n",
      "13.9293\t\t\t50.72\n",
      "14.1372\t\t\t50.92\n",
      "14.3451\t\t\t51.13\n",
      "14.5530\t\t\t51.33\n",
      "14.7609\t\t\t51.54\n",
      "14.9688\t\t\t51.74\n",
      "15.1767\t\t\t51.95\n",
      "15.3846\t\t\t52.15\n",
      "15.5925\t\t\t52.36\n",
      "15.8004\t\t\t52.56\n",
      "16.0083\t\t\t52.77\n",
      "16.2162\t\t\t52.97\n",
      "16.4241\t\t\t53.18\n",
      "16.6320\t\t\t53.38\n",
      "16.8399\t\t\t53.59\n",
      "17.0478\t\t\t53.79\n",
      "17.2557\t\t\t54.00\n",
      "17.4636\t\t\t54.20\n",
      "17.6715\t\t\t54.41\n",
      "17.8794\t\t\t54.61\n",
      "18.0873\t\t\t54.82\n",
      "18.2952\t\t\t55.02\n",
      "18.5031\t\t\t55.23\n",
      "18.7110\t\t\t55.43\n",
      "18.9189\t\t\t55.64\n",
      "19.1268\t\t\t55.84\n",
      "19.3347\t\t\t56.05\n",
      "19.5426\t\t\t56.25\n",
      "19.7505\t\t\t56.45\n",
      "19.9584\t\t\t56.66\n",
      "20.1663\t\t\t56.86\n",
      "20.3742\t\t\t57.07\n",
      "20.5821\t\t\t57.27\n",
      "20.7900\t\t\t57.48\n",
      "20.9979\t\t\t57.68\n",
      "21.2058\t\t\t57.89\n",
      "21.4137\t\t\t58.09\n",
      "21.6216\t\t\t58.30\n",
      "21.8295\t\t\t58.50\n",
      "22.0374\t\t\t58.71\n",
      "22.2453\t\t\t58.91\n",
      "22.4532\t\t\t59.12\n",
      "22.6611\t\t\t59.32\n",
      "22.8690\t\t\t59.53\n",
      "23.0769\t\t\t59.73\n",
      "23.2848\t\t\t59.94\n",
      "23.4927\t\t\t60.14\n",
      "23.7006\t\t\t60.35\n",
      "23.9085\t\t\t60.55\n",
      "24.1164\t\t\t60.76\n",
      "24.3243\t\t\t60.96\n",
      "24.5322\t\t\t61.17\n",
      "24.7401\t\t\t61.37\n",
      "24.9480\t\t\t61.58\n",
      "25.1559\t\t\t61.78\n",
      "25.3638\t\t\t61.99\n",
      "25.5717\t\t\t62.19\n",
      "25.7796\t\t\t62.40\n",
      "25.9875\t\t\t62.60\n",
      "26.1954\t\t\t62.81\n",
      "26.4033\t\t\t63.01\n",
      "26.6112\t\t\t63.22\n",
      "26.8191\t\t\t63.42\n",
      "27.0270\t\t\t63.63\n",
      "27.2349\t\t\t63.83\n",
      "27.4428\t\t\t64.04\n",
      "27.6507\t\t\t64.24\n",
      "27.8586\t\t\t64.45\n",
      "28.0665\t\t\t64.55\n",
      "28.2744\t\t\t64.65\n",
      "28.4823\t\t\t64.75\n",
      "28.6902\t\t\t64.86\n",
      "28.8981\t\t\t64.96\n",
      "29.1060\t\t\t65.06\n",
      "29.3139\t\t\t65.16\n",
      "29.5218\t\t\t65.27\n",
      "29.7297\t\t\t65.37\n",
      "29.9376\t\t\t65.47\n",
      "30.1455\t\t\t65.57\n",
      "30.3534\t\t\t65.68\n",
      "30.5613\t\t\t65.78\n",
      "30.7692\t\t\t65.88\n",
      "30.9771\t\t\t65.98\n",
      "31.1850\t\t\t66.09\n",
      "31.3929\t\t\t66.19\n",
      "31.6008\t\t\t66.29\n",
      "31.8087\t\t\t66.39\n",
      "32.0166\t\t\t66.50\n",
      "32.2245\t\t\t66.60\n",
      "32.4324\t\t\t66.70\n",
      "32.6403\t\t\t66.80\n",
      "32.8482\t\t\t66.91\n",
      "33.0561\t\t\t67.01\n",
      "33.2640\t\t\t67.11\n",
      "33.4719\t\t\t67.21\n",
      "33.6798\t\t\t67.32\n",
      "33.8877\t\t\t67.42\n",
      "34.0956\t\t\t67.52\n",
      "34.3035\t\t\t67.62\n",
      "34.5114\t\t\t67.73\n",
      "34.7193\t\t\t67.83\n",
      "34.9272\t\t\t67.93\n",
      "35.1351\t\t\t68.03\n",
      "35.3430\t\t\t68.14\n",
      "35.5509\t\t\t68.24\n",
      "35.7588\t\t\t68.34\n",
      "35.9667\t\t\t68.44\n",
      "36.1746\t\t\t68.55\n",
      "36.3825\t\t\t68.65\n",
      "36.5904\t\t\t68.75\n",
      "36.7983\t\t\t68.85\n",
      "37.0062\t\t\t68.95\n",
      "37.2141\t\t\t69.06\n",
      "37.4220\t\t\t69.16\n",
      "37.6299\t\t\t69.26\n",
      "37.8378\t\t\t69.36\n",
      "38.0457\t\t\t69.47\n",
      "38.2536\t\t\t69.57\n",
      "38.4615\t\t\t69.67\n",
      "38.6694\t\t\t69.77\n",
      "38.8773\t\t\t69.88\n",
      "39.0852\t\t\t69.98\n",
      "39.2931\t\t\t70.08\n",
      "39.5010\t\t\t70.18\n",
      "39.7089\t\t\t70.29\n",
      "39.9168\t\t\t70.39\n",
      "40.1247\t\t\t70.49\n",
      "40.3326\t\t\t70.59\n",
      "40.5405\t\t\t70.70\n",
      "40.7484\t\t\t70.80\n",
      "40.9563\t\t\t70.90\n",
      "41.1642\t\t\t71.00\n",
      "41.3721\t\t\t71.11\n",
      "41.5800\t\t\t71.21\n",
      "41.7879\t\t\t71.31\n",
      "41.9958\t\t\t71.41\n",
      "42.2037\t\t\t71.52\n",
      "42.4116\t\t\t71.62\n",
      "42.6195\t\t\t71.72\n",
      "42.8274\t\t\t71.82\n",
      "43.0353\t\t\t71.93\n",
      "43.2432\t\t\t72.03\n",
      "43.4511\t\t\t72.13\n",
      "43.6590\t\t\t72.23\n",
      "43.8669\t\t\t72.34\n",
      "44.0748\t\t\t72.44\n",
      "44.2827\t\t\t72.54\n",
      "44.4906\t\t\t72.64\n",
      "44.6985\t\t\t72.75\n",
      "44.9064\t\t\t72.85\n",
      "45.1143\t\t\t72.95\n",
      "45.3222\t\t\t73.05\n",
      "45.5301\t\t\t73.16\n",
      "45.7380\t\t\t73.26\n",
      "45.9459\t\t\t73.36\n",
      "46.1538\t\t\t73.46\n",
      "46.3617\t\t\t73.57\n",
      "46.5696\t\t\t73.67\n",
      "46.7775\t\t\t73.77\n",
      "46.9854\t\t\t73.87\n",
      "47.1933\t\t\t73.98\n",
      "47.4012\t\t\t74.08\n",
      "47.6091\t\t\t74.18\n",
      "47.8170\t\t\t74.28\n",
      "48.0249\t\t\t74.39\n",
      "48.2328\t\t\t74.49\n",
      "48.4407\t\t\t74.59\n",
      "48.6486\t\t\t74.69\n",
      "48.8565\t\t\t74.80\n",
      "49.0644\t\t\t74.90\n",
      "49.2723\t\t\t75.00\n",
      "49.4802\t\t\t75.10\n",
      "49.6881\t\t\t75.20\n",
      "49.8960\t\t\t75.31\n",
      "50.1040\t\t\t75.41\n",
      "50.3119\t\t\t75.51\n",
      "50.5198\t\t\t75.61\n",
      "50.7277\t\t\t75.72\n",
      "50.9356\t\t\t75.82\n",
      "51.1435\t\t\t75.92\n",
      "51.3514\t\t\t76.02\n",
      "51.5593\t\t\t76.13\n",
      "51.7672\t\t\t76.23\n",
      "51.9751\t\t\t76.33\n",
      "52.1830\t\t\t76.43\n",
      "52.3909\t\t\t76.54\n",
      "52.5988\t\t\t76.64\n",
      "52.8067\t\t\t76.74\n",
      "53.0146\t\t\t76.84\n",
      "53.2225\t\t\t76.95\n",
      "53.4304\t\t\t77.05\n",
      "53.6383\t\t\t77.15\n",
      "53.8462\t\t\t77.25\n",
      "54.0541\t\t\t77.36\n",
      "54.2620\t\t\t77.46\n",
      "54.4699\t\t\t77.56\n",
      "54.6778\t\t\t77.66\n",
      "54.8857\t\t\t77.77\n",
      "55.0936\t\t\t77.87\n",
      "55.3015\t\t\t77.97\n",
      "55.5094\t\t\t78.07\n",
      "55.7173\t\t\t78.18\n",
      "55.9252\t\t\t78.28\n",
      "56.1331\t\t\t78.38\n",
      "56.3410\t\t\t78.48\n",
      "56.5489\t\t\t78.59\n",
      "56.7568\t\t\t78.69\n",
      "56.9647\t\t\t78.79\n",
      "57.1726\t\t\t78.89\n",
      "57.3805\t\t\t79.00\n",
      "57.5884\t\t\t79.10\n",
      "57.7963\t\t\t79.20\n",
      "58.0042\t\t\t79.30\n",
      "58.2121\t\t\t79.41\n",
      "58.4200\t\t\t79.51\n",
      "58.6279\t\t\t79.61\n",
      "58.8358\t\t\t79.71\n",
      "59.0437\t\t\t79.82\n",
      "59.2516\t\t\t79.92\n",
      "59.4595\t\t\t80.02\n",
      "59.6674\t\t\t80.12\n",
      "59.8753\t\t\t80.23\n",
      "60.0832\t\t\t80.33\n",
      "60.2911\t\t\t80.43\n",
      "60.4990\t\t\t80.53\n",
      "60.7069\t\t\t80.64\n",
      "60.9148\t\t\t80.74\n",
      "61.1227\t\t\t80.84\n",
      "61.3306\t\t\t80.94\n",
      "61.5385\t\t\t81.05\n",
      "61.7464\t\t\t81.15\n",
      "61.9543\t\t\t81.25\n",
      "62.1622\t\t\t81.35\n",
      "62.3701\t\t\t81.45\n",
      "62.5780\t\t\t81.56\n",
      "62.7859\t\t\t81.66\n",
      "62.9938\t\t\t81.76\n",
      "63.2017\t\t\t81.86\n",
      "63.4096\t\t\t81.97\n",
      "63.6175\t\t\t82.07\n",
      "63.8254\t\t\t82.17\n",
      "64.0333\t\t\t82.27\n",
      "64.2412\t\t\t82.38\n",
      "64.4491\t\t\t82.48\n",
      "64.6570\t\t\t82.58\n",
      "64.8649\t\t\t82.68\n",
      "65.0728\t\t\t82.79\n",
      "65.2807\t\t\t82.89\n",
      "65.4886\t\t\t82.99\n",
      "65.6965\t\t\t83.09\n",
      "65.9044\t\t\t83.20\n",
      "66.1123\t\t\t83.30\n",
      "66.3202\t\t\t83.40\n",
      "66.5281\t\t\t83.50\n",
      "66.7360\t\t\t83.61\n",
      "66.9439\t\t\t83.71\n",
      "67.1518\t\t\t83.81\n",
      "67.3597\t\t\t83.91\n",
      "67.5676\t\t\t84.02\n",
      "67.7755\t\t\t84.12\n",
      "67.9834\t\t\t84.22\n",
      "68.1913\t\t\t84.32\n",
      "68.3992\t\t\t84.43\n",
      "68.6071\t\t\t84.53\n",
      "68.8150\t\t\t84.63\n",
      "69.0229\t\t\t84.73\n",
      "69.2308\t\t\t84.84\n",
      "69.4387\t\t\t84.94\n",
      "69.6466\t\t\t85.04\n",
      "69.8545\t\t\t85.14\n",
      "70.0624\t\t\t85.25\n",
      "70.2703\t\t\t85.35\n",
      "70.4782\t\t\t85.45\n",
      "70.6861\t\t\t85.55\n",
      "70.8940\t\t\t85.66\n",
      "71.1019\t\t\t85.76\n",
      "71.3098\t\t\t85.86\n",
      "71.5177\t\t\t85.96\n",
      "71.7256\t\t\t86.07\n",
      "71.9335\t\t\t86.17\n",
      "72.1414\t\t\t86.27\n",
      "72.3493\t\t\t86.37\n",
      "72.5572\t\t\t86.48\n",
      "72.7651\t\t\t86.58\n",
      "72.9730\t\t\t86.68\n",
      "73.1809\t\t\t86.78\n",
      "73.3888\t\t\t86.89\n",
      "73.5967\t\t\t86.99\n",
      "73.8046\t\t\t87.09\n",
      "74.0125\t\t\t87.19\n",
      "74.2204\t\t\t87.30\n",
      "74.4283\t\t\t87.40\n",
      "74.6362\t\t\t87.50\n",
      "74.8441\t\t\t87.60\n",
      "75.0520\t\t\t87.70\n",
      "75.2599\t\t\t87.81\n",
      "75.4678\t\t\t87.91\n",
      "75.6757\t\t\t88.01\n",
      "75.8836\t\t\t88.11\n",
      "76.0915\t\t\t88.22\n",
      "76.2994\t\t\t88.32\n",
      "76.5073\t\t\t88.42\n",
      "76.7152\t\t\t88.52\n",
      "76.9231\t\t\t88.63\n",
      "77.1310\t\t\t88.73\n",
      "77.3389\t\t\t88.83\n",
      "77.5468\t\t\t88.93\n",
      "77.7547\t\t\t89.04\n",
      "77.9626\t\t\t89.14\n",
      "78.1705\t\t\t89.24\n",
      "78.3784\t\t\t89.34\n",
      "78.5863\t\t\t89.45\n",
      "78.7942\t\t\t89.55\n",
      "79.0021\t\t\t89.65\n",
      "79.2100\t\t\t89.75\n",
      "79.4179\t\t\t89.86\n",
      "79.6258\t\t\t89.96\n",
      "79.8337\t\t\t90.06\n",
      "80.0416\t\t\t90.16\n",
      "80.2495\t\t\t90.27\n",
      "80.4574\t\t\t90.37\n",
      "80.6653\t\t\t90.47\n",
      "80.8732\t\t\t90.57\n",
      "81.0811\t\t\t90.68\n",
      "81.2890\t\t\t90.78\n",
      "81.4969\t\t\t90.88\n",
      "81.7048\t\t\t90.98\n",
      "81.9127\t\t\t91.09\n",
      "82.1206\t\t\t91.19\n",
      "82.3285\t\t\t91.29\n",
      "82.5364\t\t\t91.39\n",
      "82.7443\t\t\t91.50\n",
      "82.9522\t\t\t91.60\n",
      "83.1601\t\t\t91.70\n",
      "83.3680\t\t\t91.80\n",
      "83.5759\t\t\t91.91\n",
      "83.7838\t\t\t92.01\n",
      "83.9917\t\t\t92.11\n",
      "84.1996\t\t\t92.21\n",
      "84.4075\t\t\t92.32\n",
      "84.6154\t\t\t92.42\n",
      "84.8233\t\t\t92.52\n",
      "85.0312\t\t\t92.62\n",
      "85.2391\t\t\t92.73\n",
      "85.4470\t\t\t92.83\n",
      "85.6549\t\t\t92.93\n",
      "85.8628\t\t\t93.03\n",
      "86.0707\t\t\t93.14\n",
      "86.2786\t\t\t93.24\n",
      "86.4865\t\t\t93.34\n",
      "86.6944\t\t\t93.44\n",
      "86.9023\t\t\t93.55\n",
      "87.1102\t\t\t93.65\n",
      "87.3181\t\t\t93.75\n",
      "87.5260\t\t\t93.85\n",
      "87.7339\t\t\t93.95\n",
      "87.9418\t\t\t94.06\n",
      "88.1497\t\t\t94.16\n",
      "88.3576\t\t\t94.26\n",
      "88.5655\t\t\t94.36\n",
      "88.7734\t\t\t94.47\n",
      "88.9813\t\t\t94.57\n",
      "89.1892\t\t\t94.67\n",
      "89.3971\t\t\t94.77\n",
      "89.6050\t\t\t94.88\n",
      "89.8129\t\t\t94.98\n",
      "90.0208\t\t\t95.08\n",
      "90.2287\t\t\t95.18\n",
      "90.4366\t\t\t95.29\n",
      "90.6445\t\t\t95.39\n",
      "90.8524\t\t\t95.49\n",
      "91.0603\t\t\t95.59\n",
      "91.2682\t\t\t95.70\n",
      "91.4761\t\t\t95.80\n",
      "91.6840\t\t\t95.90\n",
      "91.8919\t\t\t96.00\n",
      "92.0998\t\t\t96.11\n",
      "92.3077\t\t\t96.21\n",
      "92.5156\t\t\t96.31\n",
      "92.7235\t\t\t96.41\n",
      "92.9314\t\t\t96.52\n",
      "93.1393\t\t\t96.62\n",
      "93.3472\t\t\t96.72\n",
      "93.5551\t\t\t96.82\n",
      "93.7630\t\t\t96.93\n",
      "93.9709\t\t\t97.03\n",
      "94.1788\t\t\t97.13\n",
      "94.3867\t\t\t97.23\n",
      "94.5946\t\t\t97.34\n",
      "94.8025\t\t\t97.44\n",
      "95.0104\t\t\t97.54\n",
      "95.2183\t\t\t97.64\n",
      "95.4262\t\t\t97.75\n",
      "95.6341\t\t\t97.85\n",
      "95.8420\t\t\t97.95\n",
      "96.0499\t\t\t98.05\n",
      "96.2578\t\t\t98.16\n",
      "96.4657\t\t\t98.26\n",
      "96.6736\t\t\t98.36\n",
      "96.8815\t\t\t98.46\n",
      "97.0894\t\t\t98.57\n",
      "97.2973\t\t\t98.67\n",
      "97.5052\t\t\t98.77\n",
      "97.7131\t\t\t98.87\n",
      "97.9210\t\t\t98.98\n",
      "98.1289\t\t\t99.08\n",
      "98.3368\t\t\t99.18\n",
      "98.5447\t\t\t99.28\n",
      "98.7526\t\t\t99.39\n",
      "98.9605\t\t\t99.49\n",
      "99.1684\t\t\t99.59\n",
      "99.3763\t\t\t99.69\n",
      "99.5842\t\t\t99.80\n",
      "99.7921\t\t\t99.90\n",
      "100.0000\t\t\t100.00\n"
     ]
    }
   ],
   "source": [
    "distribution = [(user, count) for user, count in count_posts_per_author.items() if user != None]\n",
    "distribution.sort(key = lambda k: k[1], reverse=True)\n",
    "\n",
    "posts_count = 0\n",
    "total_users = len(distribution)  # not including the None users\n",
    "total_posts = len(post_stats) - count_posts_per_author[None]  # Excluding posts by None useres\n",
    "print(f'Total no. of users: {total_users}')\n",
    "print(f'Total no. of posts: {total_posts}')\n",
    "x_pct_users, y_pct_posts = [], []\n",
    "\n",
    "print(f'\\ntop posters (%)\\t\\tposts %')\n",
    "for i, (user, count) in enumerate(distribution):\n",
    "    posts_count += count\n",
    "    pct_users = (i+1) * 100 / total_users\n",
    "    pct_posts = posts_count * 100 / total_posts\n",
    "    x_pct_users.append(pct_users)\n",
    "    y_pct_posts.append(pct_posts)\n",
    "    print(f'{pct_users:.4f}\\t\\t\\t{pct_posts:.2f}')\n",
    "    "
   ]
  },
  {
   "cell_type": "code",
   "execution_count": 129,
   "metadata": {},
   "outputs": [],
   "source": [
    "import matplotlib.pyplot as plt\n",
    "%matplotlib inline"
   ]
  },
  {
   "cell_type": "code",
   "execution_count": 130,
   "metadata": {},
   "outputs": [
    {
     "data": {
      "text/plain": [
       "Text(0, 0.5, 'posts %')"
      ]
     },
     "execution_count": 130,
     "metadata": {},
     "output_type": "execute_result"
    },
    {
     "data": {
      "image/png": "[encoded data removed]",
      "text/plain": [
       "<Figure size 432x288 with 1 Axes>"
      ]
     },
     "metadata": {
      "needs_background": "light"
     },
     "output_type": "display_data"
    }
   ],
   "source": [
    "plt.plot(x_pct_users, y_pct_posts)\n",
    "plt.xlabel('top posters (%)')\n",
    "plt.ylabel('posts %')"
   ]
  },
  {
   "cell_type": "markdown",
   "metadata": {},
   "source": []
  }
 ],
 "metadata": {
  "kernelspec": {
   "display_name": "Python 3 (ipykernel)",
   "language": "python",
   "name": "python3"
  },
  "language_info": {
   "codemirror_mode": {
    "name": "ipython",
    "version": 3
   },
   "file_extension": ".py",
   "mimetype": "text/x-python",
   "name": "python",
   "nbconvert_exporter": "python",
   "pygments_lexer": "ipython3",
   "version": "3.8.13"
  },
  "toc": {
   "base_numbering": 1,
   "nav_menu": {},
   "number_sections": true,
   "sideBar": true,
   "skip_h1_title": false,
   "title_cell": "Table of Contents",
   "title_sidebar": "Contents",
   "toc_cell": false,
   "toc_position": {},
   "toc_section_display": true,
   "toc_window_display": true
  },
  "vscode": {
   "interpreter": {
    "hash": "c57794392b841cffd8686d5c4548e4e2ec78521f49300d60954d1380f1b4bd1f"
   }
  }
 },
 "nbformat": 4,
 "nbformat_minor": 2
}
